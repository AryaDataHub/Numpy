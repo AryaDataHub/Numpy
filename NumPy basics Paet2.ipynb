{
 "cells": [
  {
   "cell_type": "markdown",
   "id": "ee9f8b16",
   "metadata": {},
   "source": [
    "# NumPy Basics Practice Part-II\n",
    "###### Arya Bhushan"
   ]
  },
  {
   "cell_type": "markdown",
   "id": "78346a79",
   "metadata": {},
   "source": [
    "![NumPy](https://i.morioh.com/a1380b1e61.png)"
   ]
  },
  {
   "cell_type": "markdown",
   "id": "acbf4d27",
   "metadata": {},
   "source": [
    "## Arithmetic operation in NumPy\n",
    "- a + b | np.add(a,b)\n",
    "\n",
    "- a - b | np.subtract(a,b)\n",
    "- a * b | np.multiply(a,b)\n",
    "- a / b | np.divide(a,b)\n",
    "- a % b | np.mod(a,b)\n",
    "- a ** b | np.power(a,b)\n",
    "- 1/b | np.reciprocal(a)"
   ]
  },
  {
   "cell_type": "code",
   "execution_count": 1,
   "id": "fb2b9da1",
   "metadata": {},
   "outputs": [],
   "source": [
    "import numpy as np"
   ]
  },
  {
   "cell_type": "markdown",
   "id": "43659851",
   "metadata": {},
   "source": [
    "### add() / addition"
   ]
  },
  {
   "cell_type": "code",
   "execution_count": 25,
   "id": "ed42ba97",
   "metadata": {},
   "outputs": [
    {
     "name": "stdout",
     "output_type": "stream",
     "text": [
      "[ 3  5  7  9 11]\n"
     ]
    }
   ],
   "source": [
    "#Adding 2 variables\n",
    "var1 = np.array([1,2,3,4,5])\n",
    "var2 = np.array([2,3,4,5,6])\n",
    "varadd = var1 + var2\n",
    "print(varadd)"
   ]
  },
  {
   "cell_type": "code",
   "execution_count": 9,
   "id": "3a967e05",
   "metadata": {},
   "outputs": [
    {
     "name": "stdout",
     "output_type": "stream",
     "text": [
      "[4 5 6 7 8]\n"
     ]
    }
   ],
   "source": [
    "#Adding number to a variable\n",
    "varadd1 = var1 + 3\n",
    "print(varadd1)"
   ]
  },
  {
   "cell_type": "code",
   "execution_count": 11,
   "id": "aed19a52",
   "metadata": {},
   "outputs": [
    {
     "name": "stdout",
     "output_type": "stream",
     "text": [
      "[ 3  5  7  9 11]\n"
     ]
    }
   ],
   "source": [
    "#Adding 2 variables using add function\n",
    "var3 = np.array([1,2,3,4,5])\n",
    "var4 = np.array([2,3,4,5,6])\n",
    "varadd1 = np.add(var3,var4)\n",
    "print(varadd1)"
   ]
  },
  {
   "cell_type": "code",
   "execution_count": 13,
   "id": "047855c2",
   "metadata": {},
   "outputs": [
    {
     "name": "stdout",
     "output_type": "stream",
     "text": [
      "[4 5 6 7 8]\n"
     ]
    }
   ],
   "source": [
    "#Adding number to a variable using add function\n",
    "varadd12 = var3 + 3\n",
    "print(varadd12)"
   ]
  },
  {
   "cell_type": "code",
   "execution_count": 22,
   "id": "942beaf7",
   "metadata": {},
   "outputs": [
    {
     "name": "stdout",
     "output_type": "stream",
     "text": [
      "[[1 2 3]\n",
      " [1 2 3]]\n",
      "\n",
      "[[1 2 3]\n",
      " [1 2 3]]\n",
      "\n",
      "result:  [[2 4 6]\n",
      " [2 4 6]]\n"
     ]
    }
   ],
   "source": [
    "# Addition of 2-D array\n",
    "var2da = np.array([[1,2,3],[1,2,3]])\n",
    "var2db = np.array([[1,2,3],[1,2,3]])\n",
    "varadd21 = np.add(var2da,var2db)\n",
    "print(var2da)\n",
    "print()\n",
    "print(var2db)\n",
    "print()\n",
    "print('result: ',varadd21)"
   ]
  },
  {
   "cell_type": "markdown",
   "id": "de5a8d57",
   "metadata": {},
   "source": [
    "### subtract() / subtraction"
   ]
  },
  {
   "cell_type": "code",
   "execution_count": 24,
   "id": "d6360110",
   "metadata": {},
   "outputs": [
    {
     "name": "stdout",
     "output_type": "stream",
     "text": [
      "[-1 -1 -1 -1 -1]\n"
     ]
    }
   ],
   "source": [
    "#Subtracting 2 variables\n",
    "svar1 = np.array([1,2,3,4,5])\n",
    "svar2 = np.array([2,3,4,5,6])\n",
    "varsub = svar1 - svar2\n",
    "print(varsub)"
   ]
  },
  {
   "cell_type": "code",
   "execution_count": 26,
   "id": "eedea7f0",
   "metadata": {},
   "outputs": [
    {
     "name": "stdout",
     "output_type": "stream",
     "text": [
      "[-2 -1  0  1  2]\n"
     ]
    }
   ],
   "source": [
    "#Subtracting number to a variable\n",
    "varsub2 = svar1 - 3\n",
    "print(varsub2)"
   ]
  },
  {
   "cell_type": "code",
   "execution_count": 27,
   "id": "4e5449be",
   "metadata": {},
   "outputs": [
    {
     "name": "stdout",
     "output_type": "stream",
     "text": [
      "[[1 2 3]\n",
      " [1 2 3]]\n",
      "\n",
      "[[1 2 3]\n",
      " [1 2 3]]\n",
      "\n",
      "result:  [[0 0 0]\n",
      " [0 0 0]]\n"
     ]
    }
   ],
   "source": [
    "# Subtraction of 2-D array\n",
    "svar2da = np.array([[1,2,3],[1,2,3]])\n",
    "svar2db = np.array([[1,2,3],[1,2,3]])\n",
    "varsub21 = np.subtract(svar2da,svar2db)\n",
    "print(svar2da)\n",
    "print()\n",
    "print(svar2db)\n",
    "print()\n",
    "print('result: ',varsub21)"
   ]
  },
  {
   "cell_type": "markdown",
   "id": "ed014a78",
   "metadata": {},
   "source": [
    "### multiply() / multiplication"
   ]
  },
  {
   "cell_type": "code",
   "execution_count": 28,
   "id": "93ef8487",
   "metadata": {},
   "outputs": [
    {
     "name": "stdout",
     "output_type": "stream",
     "text": [
      "[6 6 6]\n"
     ]
    }
   ],
   "source": [
    "mul1 = np.array([2,2,2])\n",
    "mulres = np.multiply(mul1,3)\n",
    "print(mulres)"
   ]
  },
  {
   "cell_type": "code",
   "execution_count": 32,
   "id": "9385b909",
   "metadata": {},
   "outputs": [
    {
     "name": "stdout",
     "output_type": "stream",
     "text": [
      "[[1 2]\n",
      " [1 2]]\n",
      "\n",
      "[[2 2]\n",
      " [2 2]]\n",
      "\n",
      "multiplication of result:\n",
      "[[2 4]\n",
      " [2 4]]\n"
     ]
    }
   ],
   "source": [
    "mul2 = np.array([[1,2],[1,2]])\n",
    "mul3 = np.array([[2,2],[2,2]])\n",
    "mulres1 = np.multiply(mul2,mul3)\n",
    "print(mul2)\n",
    "print()\n",
    "print(mul3)\n",
    "print()\n",
    "print('multiplication of result:')\n",
    "print(mulres1)"
   ]
  },
  {
   "cell_type": "markdown",
   "id": "3fbe02f4",
   "metadata": {},
   "source": [
    "### divide() / division"
   ]
  },
  {
   "cell_type": "code",
   "execution_count": 33,
   "id": "ea0a4cd5",
   "metadata": {},
   "outputs": [
    {
     "name": "stdout",
     "output_type": "stream",
     "text": [
      "result after division\n",
      "\n",
      "[11. 15. 22.  9. 27.]\n"
     ]
    }
   ],
   "source": [
    "div1 = np.array([33,45,66,27,81])\n",
    "divres = np.divide(div1,3)\n",
    "print('result after division')\n",
    "print()\n",
    "print(divres)"
   ]
  },
  {
   "cell_type": "markdown",
   "id": "308185ee",
   "metadata": {},
   "source": [
    "### mod() / modulo"
   ]
  },
  {
   "cell_type": "code",
   "execution_count": 36,
   "id": "e61e6fd6",
   "metadata": {},
   "outputs": [
    {
     "name": "stdout",
     "output_type": "stream",
     "text": [
      "result\n",
      "\n",
      "[5 3 3 6 4]\n"
     ]
    }
   ],
   "source": [
    "mod1 = np.array([33,45,66,27,81])         #output is remainder\n",
    "modres = np.mod(mod1,7)\n",
    "print('result')\n",
    "print()\n",
    "print(modres)"
   ]
  },
  {
   "cell_type": "markdown",
   "id": "c3d6e89c",
   "metadata": {},
   "source": [
    "### power() / power or order"
   ]
  },
  {
   "cell_type": "code",
   "execution_count": 37,
   "id": "7d09f259",
   "metadata": {},
   "outputs": [
    {
     "name": "stdout",
     "output_type": "stream",
     "text": [
      "result\n",
      "\n",
      "[[ 4  9 16]\n",
      " [25 36 49]]\n"
     ]
    }
   ],
   "source": [
    "pow1 = np.array([[2,3,4],[5,6,7]])\n",
    "powres = np.power(pow1,2)\n",
    "print('result')\n",
    "print()\n",
    "print(powres)"
   ]
  },
  {
   "cell_type": "markdown",
   "id": "e75a49bb",
   "metadata": {},
   "source": [
    "### reciprocal() "
   ]
  },
  {
   "cell_type": "code",
   "execution_count": 39,
   "id": "31521713",
   "metadata": {},
   "outputs": [
    {
     "name": "stdout",
     "output_type": "stream",
     "text": [
      "[[2. 3.]\n",
      " [4. 5.]]\n"
     ]
    }
   ],
   "source": [
    "rec = ([[1/2,1/3],[1/4,1/5]])\n",
    "recres = np.reciprocal(rec)\n",
    "print(recres)"
   ]
  },
  {
   "cell_type": "markdown",
   "id": "907a78b1",
   "metadata": {},
   "source": [
    "## More Arithmetic Functions in NumPy\n",
    "- np.min(x) - Minimum\n",
    "- np.max(x) - Maximum\n",
    "- np.argmin(x) - Index of minimum\n",
    "- np.argmax(x) - Index of Maximum\n",
    "- np.sqrt(x) - Square root\n",
    "- np.sin(x) - trigonometric sin\n",
    "- np.cos(x) - trigonometric cos\n",
    "- np.cumsum(x) - cummulative sum"
   ]
  },
  {
   "cell_type": "markdown",
   "id": "c8dc41a4",
   "metadata": {},
   "source": [
    "### Maximum - np.max()"
   ]
  },
  {
   "cell_type": "code",
   "execution_count": 41,
   "id": "0376c61a",
   "metadata": {},
   "outputs": [
    {
     "name": "stdout",
     "output_type": "stream",
     "text": [
      "Maximum:  766\n"
     ]
    }
   ],
   "source": [
    "# for 1-D array\n",
    "varmax = ([21,23,4,32,33,45,66,76,766,])\n",
    "maxi = np.max(varmax)\n",
    "print('Maximum: ',maxi)"
   ]
  },
  {
   "cell_type": "code",
   "execution_count": 42,
   "id": "d42eafe7",
   "metadata": {},
   "outputs": [
    {
     "name": "stdout",
     "output_type": "stream",
     "text": [
      "Maximum column wise:  [48 45 89]\n"
     ]
    }
   ],
   "source": [
    "# for 2-D array-column wise, axis =0\n",
    "varmax1 = ([[23,45,27],[48,37,89]])\n",
    "print('Maximum column wise: ', np.max(varmax1, axis = 0))"
   ]
  },
  {
   "cell_type": "code",
   "execution_count": 44,
   "id": "28654b92",
   "metadata": {},
   "outputs": [
    {
     "name": "stdout",
     "output_type": "stream",
     "text": [
      "Maximum row wise:  [45 89]\n"
     ]
    }
   ],
   "source": [
    "# for 2-D array-row wise, axis =1\n",
    "varmax2 = ([[23,45,27],[48,37,89]])\n",
    "print('Maximum row wise: ', np.max(varmax2, axis = 1))"
   ]
  },
  {
   "cell_type": "markdown",
   "id": "4c8f1358",
   "metadata": {},
   "source": [
    "### Minimum - np.min()"
   ]
  },
  {
   "cell_type": "code",
   "execution_count": 46,
   "id": "944c4063",
   "metadata": {},
   "outputs": [
    {
     "name": "stdout",
     "output_type": "stream",
     "text": [
      "Minimum:  4\n"
     ]
    }
   ],
   "source": [
    "# for 1-D array\n",
    "varmin = ([21,23,4,32,33,45,66,76,766,])\n",
    "mini = np.min(varmin)\n",
    "print('Minimum: ',mini)"
   ]
  },
  {
   "cell_type": "code",
   "execution_count": 47,
   "id": "da023957",
   "metadata": {},
   "outputs": [
    {
     "name": "stdout",
     "output_type": "stream",
     "text": [
      "Minimum column wise:  [23 37 27]\n"
     ]
    }
   ],
   "source": [
    "# for 2-D array-column wise, axis =0\n",
    "varmin1 = ([[23,45,27],[48,37,89]])\n",
    "print('Minimum column wise: ', np.min(varmin1, axis = 0))"
   ]
  },
  {
   "cell_type": "code",
   "execution_count": 49,
   "id": "5b835805",
   "metadata": {},
   "outputs": [
    {
     "name": "stdout",
     "output_type": "stream",
     "text": [
      "Minimum row wise:  [23 37]\n"
     ]
    }
   ],
   "source": [
    "# for 2-D array-column wise, axis =0\n",
    "varmin2 = ([[23,45,27],[48,37,89]])\n",
    "print('Minimum row wise: ', np.min(varmin2, axis = 1))"
   ]
  },
  {
   "cell_type": "markdown",
   "id": "a03967d2",
   "metadata": {},
   "source": [
    "### np.argmax()"
   ]
  },
  {
   "cell_type": "code",
   "execution_count": 53,
   "id": "873b7cce",
   "metadata": {},
   "outputs": [
    {
     "name": "stdout",
     "output_type": "stream",
     "text": [
      "Maximum:  766\n",
      "index number:  8\n"
     ]
    }
   ],
   "source": [
    "varmax = ([21,23,4,32,33,45,66,76,766,])\n",
    "maxi = np.max(varmax)\n",
    "print('Maximum: ',maxi)\n",
    "print('index number: ', np.argmax(varmax))"
   ]
  },
  {
   "cell_type": "markdown",
   "id": "989094f8",
   "metadata": {},
   "source": [
    "### np.argmin()"
   ]
  },
  {
   "cell_type": "code",
   "execution_count": 54,
   "id": "f820b475",
   "metadata": {},
   "outputs": [
    {
     "name": "stdout",
     "output_type": "stream",
     "text": [
      "Minimum:  4\n",
      "index number:  2\n"
     ]
    }
   ],
   "source": [
    "varmin = ([21,23,4,32,33,45,66,76,766,])\n",
    "mini = np.min(varmin)\n",
    "print('Minimum: ',mini)\n",
    "print('index number: ', np.argmin(varmin))"
   ]
  },
  {
   "cell_type": "markdown",
   "id": "a2afeff6",
   "metadata": {},
   "source": [
    "### Square root - np.sqrt()"
   ]
  },
  {
   "cell_type": "code",
   "execution_count": 62,
   "id": "37fc555b",
   "metadata": {},
   "outputs": [
    {
     "name": "stdout",
     "output_type": "stream",
     "text": [
      "the square root of [  9  81   4 625 400  64] is  [ 3.  9.  2. 25. 20.  8.]\n"
     ]
    }
   ],
   "source": [
    "sqr = np.array([9,81,4,625,400,64])\n",
    "sqrrot = np.sqrt(sqr)\n",
    "print(f'the square root of {sqr} is ',sqrrot)"
   ]
  },
  {
   "cell_type": "markdown",
   "id": "d01a9b8a",
   "metadata": {},
   "source": [
    "### np.sin(x)"
   ]
  },
  {
   "cell_type": "code",
   "execution_count": 66,
   "id": "0f069e2e",
   "metadata": {},
   "outputs": [
    {
     "name": "stdout",
     "output_type": "stream",
     "text": [
      "[0.         0.49991446 0.70710808 0.86592661 0.99999968]\n"
     ]
    }
   ],
   "source": [
    "sina = np.array([0,0.5235,0.7854,1.047,1.57])  #this takes angle in radian\n",
    "print(np.sin(sina))     # sin (0) = 0 sin(1.57)= 1"
   ]
  },
  {
   "cell_type": "markdown",
   "id": "861f3d9f",
   "metadata": {},
   "source": [
    "### np.cos(x)"
   ]
  },
  {
   "cell_type": "code",
   "execution_count": 68,
   "id": "69a63410",
   "metadata": {},
   "outputs": [
    {
     "name": "stdout",
     "output_type": "stream",
     "text": [
      "[1.00000000e+00 8.66074787e-01 7.07105483e-01 5.00171075e-01\n",
      " 7.96326711e-04]\n"
     ]
    }
   ],
   "source": [
    "cosa = np.array([0,0.5235,0.7854,1.047,1.57])  \n",
    "print(np.cos(cosa))     # cos(0)=1, cos(1.57)= 0"
   ]
  },
  {
   "cell_type": "markdown",
   "id": "184c15b6",
   "metadata": {},
   "source": [
    "### Cummulative sum - np.cumsum()"
   ]
  },
  {
   "cell_type": "code",
   "execution_count": 70,
   "id": "b4906a81",
   "metadata": {},
   "outputs": [
    {
     "name": "stdout",
     "output_type": "stream",
     "text": [
      "[ 1  2  3  4  5  6  7  8  9 10 11 12 13 14 15 16 17 18 19 20 21 22]\n"
     ]
    }
   ],
   "source": [
    "cuml = np.array([1,1,1,1,1,1,1,1,1,1,1,1,1,1,1,1,1,1,1,1,1,1])\n",
    "print(np.cumsum(cuml))"
   ]
  },
  {
   "cell_type": "markdown",
   "id": "af987cc2",
   "metadata": {},
   "source": [
    "## Shape and Reshape of Array"
   ]
  },
  {
   "cell_type": "markdown",
   "id": "8634886e",
   "metadata": {},
   "source": [
    "### shape"
   ]
  },
  {
   "cell_type": "code",
   "execution_count": 71,
   "id": "4c212680",
   "metadata": {},
   "outputs": [
    {
     "name": "stdout",
     "output_type": "stream",
     "text": [
      "(2, 4)\n"
     ]
    }
   ],
   "source": [
    "sh = np.array([[1,3,5,6],[2,4,5,7]])\n",
    "print(sh.shape)"
   ]
  },
  {
   "cell_type": "code",
   "execution_count": 74,
   "id": "641d5144",
   "metadata": {},
   "outputs": [
    {
     "name": "stdout",
     "output_type": "stream",
     "text": [
      "[[1 3 5 6]\n",
      " [2 4 5 7]]\n",
      "number of rows:  2\n",
      "number of columns:  4\n"
     ]
    }
   ],
   "source": [
    "#printing the column and row separately using index of shape as a list\n",
    "print(sh)\n",
    "print('number of rows: ',sh.shape[0])\n",
    "print('number of columns: ',sh.shape[1])"
   ]
  },
  {
   "cell_type": "code",
   "execution_count": 76,
   "id": "0462b994",
   "metadata": {},
   "outputs": [
    {
     "name": "stdout",
     "output_type": "stream",
     "text": [
      "shape:  (1, 1, 1, 1, 1, 1, 1, 5)\n"
     ]
    }
   ],
   "source": [
    "#shape of a n-D array\n",
    "shn = np.array([1,2,3,4,5], ndmin = 8)\n",
    "print('shape: ',shn.shape)"
   ]
  },
  {
   "cell_type": "markdown",
   "id": "91f95f56",
   "metadata": {},
   "source": [
    "### reshape"
   ]
  },
  {
   "cell_type": "code",
   "execution_count": 79,
   "id": "ae3724df",
   "metadata": {},
   "outputs": [
    {
     "name": "stdout",
     "output_type": "stream",
     "text": [
      "[1 2 2 3 4 6]\n",
      "\n",
      "[[1 2]\n",
      " [2 3]\n",
      " [4 6]]\n"
     ]
    }
   ],
   "source": [
    "rsh = np.array([1,2,2,3,4,6])\n",
    "#while reshaping take care that number of elements in both the arrays are same\n",
    "rsh1 = rsh.reshape(3,2)\n",
    "print(rsh)\n",
    "print()\n",
    "print(rsh1)"
   ]
  },
  {
   "cell_type": "code",
   "execution_count": 85,
   "id": "f0b7ef93",
   "metadata": {},
   "outputs": [
    {
     "name": "stdout",
     "output_type": "stream",
     "text": [
      "shape of rsh:  (6,)\n",
      "shape of rsh1:  (3, 2)\n",
      "dimension of rsh:  1\n",
      "dimension of rsh1:  2\n"
     ]
    }
   ],
   "source": [
    "#lets check the dimension and shape of the above two array rsh and rsh1\n",
    "print('shape of rsh: ',rsh.shape)\n",
    "print('shape of rsh1: ',rsh1.shape)\n",
    "print('dimension of rsh: ',rsh.ndim)\n",
    "print('dimension of rsh1: ',rsh1.ndim)"
   ]
  },
  {
   "cell_type": "code",
   "execution_count": 86,
   "id": "53705962",
   "metadata": {},
   "outputs": [
    {
     "name": "stdout",
     "output_type": "stream",
     "text": [
      "[1 2 2 3 4 6]\n",
      "dimension of rsh2:  1\n"
     ]
    }
   ],
   "source": [
    "#convert 2d array to 1d array\n",
    "rsh2 = rsh1.reshape(-1)\n",
    "print(rsh2)\n",
    "print('dimension of rsh2: ',rsh2.ndim)"
   ]
  },
  {
   "cell_type": "markdown",
   "id": "e71f5bd6",
   "metadata": {},
   "source": [
    "## The END"
   ]
  },
  {
   "cell_type": "code",
   "execution_count": null,
   "id": "00ac98f8",
   "metadata": {},
   "outputs": [],
   "source": []
  }
 ],
 "metadata": {
  "kernelspec": {
   "display_name": "Python 3 (ipykernel)",
   "language": "python",
   "name": "python3"
  },
  "language_info": {
   "codemirror_mode": {
    "name": "ipython",
    "version": 3
   },
   "file_extension": ".py",
   "mimetype": "text/x-python",
   "name": "python",
   "nbconvert_exporter": "python",
   "pygments_lexer": "ipython3",
   "version": "3.11.5"
  }
 },
 "nbformat": 4,
 "nbformat_minor": 5
}
