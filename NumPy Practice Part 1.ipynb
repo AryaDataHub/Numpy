{
 "cells": [
  {
   "cell_type": "markdown",
   "id": "73284be1",
   "metadata": {},
   "source": [
    "# NumPy Basics Practice Part1"
   ]
  },
  {
   "cell_type": "markdown",
   "id": "914cc28b",
   "metadata": {},
   "source": [
    "![logo](https://www.brussellakeparagon.com/dev/ai-ml/numpy.png)"
   ]
  },
  {
   "cell_type": "code",
   "execution_count": 1,
   "id": "19025ae1",
   "metadata": {},
   "outputs": [],
   "source": [
    "import numpy as np"
   ]
  },
  {
   "cell_type": "markdown",
   "id": "b1683db8",
   "metadata": {},
   "source": [
    "## Importance of Numpy in pyhton\n",
    "- Wide Variety of mathematical operations on arrays\n",
    "- It supplies an enormous library of high level mathematical functions that operate on these arrays and matrices.\n",
    "- Mathematical, logical, shape manipulation, sorting, selecting, I/O, discrete Fourier Transforms, basic linear algebra, basic statistical operations, random simulation and much more.\n"
   ]
  },
  {
   "cell_type": "markdown",
   "id": "54301bd0",
   "metadata": {},
   "source": [
    "### NumPy Vs Pyhton Lists speed comparison"
   ]
  },
  {
   "cell_type": "code",
   "execution_count": 7,
   "id": "22d165f5",
   "metadata": {},
   "outputs": [
    {
     "name": "stdout",
     "output_type": "stream",
     "text": [
      "1.12 µs ± 92.9 ns per loop (mean ± std. dev. of 7 runs, 1,000,000 loops each)\n"
     ]
    }
   ],
   "source": [
    "%timeit [j**4 for j in range(1,9)]"
   ]
  },
  {
   "cell_type": "code",
   "execution_count": 8,
   "id": "c06c7875",
   "metadata": {},
   "outputs": [
    {
     "name": "stdout",
     "output_type": "stream",
     "text": [
      "2.33 µs ± 37 ns per loop (mean ± std. dev. of 7 runs, 100,000 loops each)\n"
     ]
    }
   ],
   "source": [
    "%timeit np.arange(1,9)**4"
   ]
  },
  {
   "cell_type": "markdown",
   "id": "b38f2e60",
   "metadata": {},
   "source": [
    "### Creating a NumPy array"
   ]
  },
  {
   "cell_type": "code",
   "execution_count": 12,
   "id": "05966361",
   "metadata": {},
   "outputs": [
    {
     "name": "stdout",
     "output_type": "stream",
     "text": [
      "[1 2 3 4]\n",
      "<class 'numpy.ndarray'>\n"
     ]
    }
   ],
   "source": [
    "#direct\n",
    "a = np.array([1,2,3,4])\n",
    "print(a)\n",
    "print(type(a))"
   ]
  },
  {
   "cell_type": "code",
   "execution_count": 13,
   "id": "40a08a14",
   "metadata": {},
   "outputs": [
    {
     "name": "stdout",
     "output_type": "stream",
     "text": [
      "[1, 2, 3, 4, 4, 4, 5, 5]\n",
      "<class 'list'>\n",
      "[1 2 3 4 4 4 5 5]\n",
      "<class 'numpy.ndarray'>\n"
     ]
    }
   ],
   "source": [
    "#using a list\n",
    "a = ([1,2,3,4,4,4,5,5])\n",
    "y = np.array(a)\n",
    "print(a)\n",
    "print(type(a))\n",
    "print(y)\n",
    "print(type(y))\n"
   ]
  },
  {
   "cell_type": "markdown",
   "id": "bfa16c89",
   "metadata": {},
   "source": [
    "### Create a program to take a list from user and print it as an array"
   ]
  },
  {
   "cell_type": "code",
   "execution_count": 15,
   "id": "3585d0ee",
   "metadata": {},
   "outputs": [
    {
     "name": "stdout",
     "output_type": "stream",
     "text": [
      "Enter number in list: 55\n",
      "Enter number in list: 55\n",
      "Enter number in list: 55\n",
      "Enter number in list: 55\n",
      "[55 55 55 55]\n"
     ]
    }
   ],
   "source": [
    "lis = []\n",
    "for i in range (1,5):\n",
    "    n = int(input('Enter number in list: '))\n",
    "    lis.append(n)\n",
    "print(np.array(lis))"
   ]
  },
  {
   "cell_type": "markdown",
   "id": "13337d42",
   "metadata": {},
   "source": [
    "### 1-D array"
   ]
  },
  {
   "cell_type": "code",
   "execution_count": 30,
   "id": "d07b9b57",
   "metadata": {},
   "outputs": [
    {
     "name": "stdout",
     "output_type": "stream",
     "text": [
      "[1 2 3 4]\n",
      "1\n"
     ]
    }
   ],
   "source": [
    "a1 = np.array([1,2,3,4])\n",
    "print(a1)\n",
    "print(a1.ndim)"
   ]
  },
  {
   "cell_type": "markdown",
   "id": "765282b2",
   "metadata": {},
   "source": [
    "### 2-D array"
   ]
  },
  {
   "cell_type": "code",
   "execution_count": 31,
   "id": "cfbbb81f",
   "metadata": {},
   "outputs": [
    {
     "name": "stdout",
     "output_type": "stream",
     "text": [
      "[[1 3 5 7]\n",
      " [2 4 6 8]]\n",
      "2\n"
     ]
    }
   ],
   "source": [
    "a2 = np.array([[1,3,5,7],[2,4,6,8]])\n",
    "print(a2)\n",
    "print(a2.ndim)"
   ]
  },
  {
   "cell_type": "code",
   "execution_count": 40,
   "id": "f625e59e",
   "metadata": {},
   "outputs": [
    {
     "name": "stdout",
     "output_type": "stream",
     "text": [
      "[[1 2 3 4 5]]\n",
      "2\n"
     ]
    }
   ],
   "source": [
    "ab2 = np.array([[1,2,3,4,5]])\n",
    "print(ab2)\n",
    "print(ab2.ndim)"
   ]
  },
  {
   "cell_type": "markdown",
   "id": "460dd420",
   "metadata": {},
   "source": [
    "### 3-D array"
   ]
  },
  {
   "cell_type": "code",
   "execution_count": 38,
   "id": "f7d73fc1",
   "metadata": {},
   "outputs": [
    {
     "name": "stdout",
     "output_type": "stream",
     "text": [
      "[[[1 2 4 5]\n",
      "  [3 5 3 7]\n",
      "  [4 6 2 8]]]\n",
      "3\n"
     ]
    }
   ],
   "source": [
    "a3 = np.array([[[1,2,4,5],[3,5,3,7],[4,6,2,8]]])\n",
    "print(a3)\n",
    "print(a3.ndim)"
   ]
  },
  {
   "cell_type": "code",
   "execution_count": 42,
   "id": "f107e1b2",
   "metadata": {},
   "outputs": [
    {
     "name": "stdout",
     "output_type": "stream",
     "text": [
      "[[[1 4 3 6]]]\n",
      "3\n"
     ]
    }
   ],
   "source": [
    "ab3 = np.array([[[1,4,3,6]]])        # count the number of '[[' for dimension\n",
    "print(ab3)\n",
    "print(ab3.ndim)"
   ]
  },
  {
   "cell_type": "markdown",
   "id": "6509527b",
   "metadata": {},
   "source": [
    "### N-D array"
   ]
  },
  {
   "cell_type": "code",
   "execution_count": 70,
   "id": "0e9dbe2d",
   "metadata": {},
   "outputs": [
    {
     "name": "stdout",
     "output_type": "stream",
     "text": [
      "[[[[[[[[[[1 2 3 4]]]]]]]]]]\n",
      "10\n"
     ]
    }
   ],
   "source": [
    "an = np.array([1,2,3,4],ndmin = 10)\n",
    "print(an)\n",
    "print(an.ndim)"
   ]
  },
  {
   "cell_type": "code",
   "execution_count": 47,
   "id": "e609e4c2",
   "metadata": {},
   "outputs": [
    {
     "ename": "ValueError",
     "evalue": "ndmin bigger than allowable number of dimensions NPY_MAXDIMS (=32)",
     "output_type": "error",
     "traceback": [
      "\u001b[1;31m---------------------------------------------------------------------------\u001b[0m",
      "\u001b[1;31mValueError\u001b[0m                                Traceback (most recent call last)",
      "Cell \u001b[1;32mIn[47], line 1\u001b[0m\n\u001b[1;32m----> 1\u001b[0m an \u001b[38;5;241m=\u001b[39m np\u001b[38;5;241m.\u001b[39marray([\u001b[38;5;241m1\u001b[39m,\u001b[38;5;241m2\u001b[39m,\u001b[38;5;241m3\u001b[39m,\u001b[38;5;241m4\u001b[39m],ndmin \u001b[38;5;241m=\u001b[39m \u001b[38;5;241m33\u001b[39m)      \u001b[38;5;66;03m# maximum number of allowable dimension is 32\u001b[39;00m\n\u001b[0;32m      2\u001b[0m \u001b[38;5;28mprint\u001b[39m(an)\n\u001b[0;32m      3\u001b[0m \u001b[38;5;28mprint\u001b[39m(an\u001b[38;5;241m.\u001b[39mndim)\n",
      "\u001b[1;31mValueError\u001b[0m: ndmin bigger than allowable number of dimensions NPY_MAXDIMS (=32)"
     ]
    }
   ],
   "source": [
    "an = np.array([1,2,3,4],ndmin = 33)      #maximum allowable dimension is 32\n",
    "print(an)\n",
    "print(an.ndim)"
   ]
  },
  {
   "cell_type": "code",
   "execution_count": null,
   "id": "38032c52",
   "metadata": {},
   "outputs": [],
   "source": [
    "nib = [1,3,4,5]\n"
   ]
  },
  {
   "cell_type": "markdown",
   "id": "64c19691",
   "metadata": {},
   "source": [
    "### Array filled with 0's"
   ]
  },
  {
   "cell_type": "code",
   "execution_count": 49,
   "id": "b9d5935b",
   "metadata": {},
   "outputs": [
    {
     "name": "stdout",
     "output_type": "stream",
     "text": [
      "[0. 0. 0. 0.]\n"
     ]
    }
   ],
   "source": [
    "# method 1\n",
    "ar_zeros = np.zeros(4)\n",
    "print(ar_zeros)"
   ]
  },
  {
   "cell_type": "code",
   "execution_count": 50,
   "id": "e8590e05",
   "metadata": {},
   "outputs": [
    {
     "name": "stdout",
     "output_type": "stream",
     "text": [
      "[[0 0]\n",
      " [0 0]]\n"
     ]
    }
   ],
   "source": [
    "#method 2\n",
    "ar_zeros1 = np.zeros(shape = (2,2), dtype = np.int32)\n",
    "print(ar_zeros1)"
   ]
  },
  {
   "cell_type": "code",
   "execution_count": 51,
   "id": "2366a76b",
   "metadata": {},
   "outputs": [
    {
     "name": "stdout",
     "output_type": "stream",
     "text": [
      "[[0 0 0 0]\n",
      " [0 0 0 0]\n",
      " [0 0 0 0]]\n"
     ]
    }
   ],
   "source": [
    "ar_zeros2 = np.zeros(shape = (3,4), dtype = np.int32)\n",
    "print(ar_zeros2)"
   ]
  },
  {
   "cell_type": "code",
   "execution_count": 57,
   "id": "5808f069",
   "metadata": {},
   "outputs": [
    {
     "name": "stdout",
     "output_type": "stream",
     "text": [
      "[[[0. 0. 0.]\n",
      "  [0. 0. 0.]\n",
      "  [0. 0. 0.]]\n",
      "\n",
      " [[0. 0. 0.]\n",
      "  [0. 0. 0.]\n",
      "  [0. 0. 0.]]\n",
      "\n",
      " [[0. 0. 0.]\n",
      "  [0. 0. 0.]\n",
      "  [0. 0. 0.]]]\n",
      "3\n"
     ]
    }
   ],
   "source": [
    "ar_zeros3 = np.zeros((3,3,3))\n",
    "print(ar_zeros3)\n",
    "print(ar_zeros3.ndim)"
   ]
  },
  {
   "cell_type": "markdown",
   "id": "213ce960",
   "metadata": {},
   "source": [
    "### Array filled with 1's"
   ]
  },
  {
   "cell_type": "code",
   "execution_count": 52,
   "id": "bec201db",
   "metadata": {},
   "outputs": [
    {
     "name": "stdout",
     "output_type": "stream",
     "text": [
      "[1. 1. 1.]\n"
     ]
    }
   ],
   "source": [
    "ar_one = np.ones(3)\n",
    "print(ar_one)"
   ]
  },
  {
   "cell_type": "code",
   "execution_count": 62,
   "id": "f5c35698",
   "metadata": {},
   "outputs": [
    {
     "name": "stdout",
     "output_type": "stream",
     "text": [
      "[[1 1 1]\n",
      " [1 1 1]]\n",
      "2\n",
      "int8\n"
     ]
    }
   ],
   "source": [
    "ar_ones = np.ones(shape = (2,3), dtype = np.int8)\n",
    "print(ar_ones)\n",
    "print(ar_ones.ndim)\n",
    "print(ar_ones.dtype)"
   ]
  },
  {
   "cell_type": "code",
   "execution_count": 64,
   "id": "db48ce2e",
   "metadata": {},
   "outputs": [
    {
     "name": "stdout",
     "output_type": "stream",
     "text": [
      "[[1. 1. 1. 1.]\n",
      " [1. 1. 1. 1.]\n",
      " [1. 1. 1. 1.]\n",
      " [1. 1. 1. 1.]]\n"
     ]
    }
   ],
   "source": [
    "ar_one1 = np.ones((4,4))\n",
    "print(ar_one1)"
   ]
  },
  {
   "cell_type": "markdown",
   "id": "e079baa9",
   "metadata": {},
   "source": [
    "### Create an empty array"
   ]
  },
  {
   "cell_type": "code",
   "execution_count": 65,
   "id": "7f702138",
   "metadata": {},
   "outputs": [
    {
     "name": "stdout",
     "output_type": "stream",
     "text": [
      "[0. 0. 0. 0.]\n"
     ]
    }
   ],
   "source": [
    "ar_em = np.empty(4)            # will return the last 1-D element with 4 elements here \n",
    "print(ar_em)"
   ]
  },
  {
   "cell_type": "markdown",
   "id": "9455684d",
   "metadata": {},
   "source": [
    "### An array with  a range of elements"
   ]
  },
  {
   "cell_type": "code",
   "execution_count": 66,
   "id": "ff63ab5a",
   "metadata": {},
   "outputs": [
    {
     "name": "stdout",
     "output_type": "stream",
     "text": [
      "[0 1 2 3]\n"
     ]
    }
   ],
   "source": [
    "ar_rn = np.arange(4)\n",
    "print(ar_rn)"
   ]
  },
  {
   "cell_type": "code",
   "execution_count": 69,
   "id": "8127f8e1",
   "metadata": {},
   "outputs": [
    {
     "name": "stdout",
     "output_type": "stream",
     "text": [
      "[ 0  1  2  3  4  5  6  7  8  9 10 11 12 13 14 15 16 17 18 19 20]\n"
     ]
    }
   ],
   "source": [
    "ar_rn1 = np.arange(21)\n",
    "print(ar_rn1)"
   ]
  },
  {
   "cell_type": "markdown",
   "id": "422034f1",
   "metadata": {},
   "source": [
    "### Identity Matrix"
   ]
  },
  {
   "cell_type": "code",
   "execution_count": 71,
   "id": "4017704c",
   "metadata": {},
   "outputs": [
    {
     "name": "stdout",
     "output_type": "stream",
     "text": [
      "[[1. 0. 0.]\n",
      " [0. 1. 0.]\n",
      " [0. 0. 1.]]\n"
     ]
    }
   ],
   "source": [
    "ar_diag = np.eye(3)\n",
    "print(ar_diag)"
   ]
  },
  {
   "cell_type": "code",
   "execution_count": 79,
   "id": "b830e485",
   "metadata": {},
   "outputs": [
    {
     "name": "stdout",
     "output_type": "stream",
     "text": [
      "[[1 0 0 0 0]\n",
      " [0 1 0 0 0]\n",
      " [0 0 1 0 0]\n",
      " [0 0 0 1 0]\n",
      " [0 0 0 0 1]]\n",
      "2\n",
      "int8\n"
     ]
    }
   ],
   "source": [
    "ar_diag1 = np.eye(5, dtype = np.int8)\n",
    "print(ar_diag1)\n",
    "print(ar_diag1.ndim)\n",
    "print(ar_diag1.dtype)"
   ]
  },
  {
   "cell_type": "code",
   "execution_count": 84,
   "id": "d6522ea1",
   "metadata": {},
   "outputs": [
    {
     "name": "stdout",
     "output_type": "stream",
     "text": [
      "[[1. 0. 0. 0. 0.]\n",
      " [0. 1. 0. 0. 0.]\n",
      " [0. 0. 1. 0. 0.]]\n",
      "float64\n"
     ]
    }
   ],
   "source": [
    "ar_diag2 = np.eye(3,5, dtype = np.float_)           #default float is float64\n",
    "print(ar_diag2)\n",
    "print(ar_diag2.dtype)"
   ]
  },
  {
   "cell_type": "markdown",
   "id": "1d0c6d03",
   "metadata": {},
   "source": [
    "### Create an array with values that are spaced linearly in a specified interval"
   ]
  },
  {
   "cell_type": "code",
   "execution_count": 85,
   "id": "f23675b0",
   "metadata": {},
   "outputs": [
    {
     "name": "stdout",
     "output_type": "stream",
     "text": [
      "[ 0.  5. 10. 15. 20.]\n"
     ]
    }
   ],
   "source": [
    "ar_lin = np.linspace(0,20, num = 5)\n",
    "print(ar_lin)"
   ]
  },
  {
   "cell_type": "code",
   "execution_count": 99,
   "id": "d36bb809",
   "metadata": {},
   "outputs": [
    {
     "name": "stdout",
     "output_type": "stream",
     "text": [
      "[ 0.          3.33333333  6.66666667 10.         13.33333333 16.66666667\n",
      " 20.         23.33333333 26.66666667 30.        ]\n"
     ]
    }
   ],
   "source": [
    "ar_lin1 = np.linspace (0,30, num = 10)\n",
    "print(ar_lin1)"
   ]
  },
  {
   "cell_type": "markdown",
   "id": "6168506c",
   "metadata": {},
   "source": [
    "## How to Create NumPy arrays with Random Numbers"
   ]
  },
  {
   "cell_type": "markdown",
   "id": "8499ae11",
   "metadata": {},
   "source": [
    "### rand() - the function is used to generate a random value which belongs to  [0,1)"
   ]
  },
  {
   "cell_type": "code",
   "execution_count": 100,
   "id": "e77a404d",
   "metadata": {},
   "outputs": [
    {
     "name": "stdout",
     "output_type": "stream",
     "text": [
      "[0.91518447 0.21825013 0.02402896 0.19146381]\n"
     ]
    }
   ],
   "source": [
    "# 1-D\n",
    "var = np.random.rand(4)\n",
    "print(var)"
   ]
  },
  {
   "cell_type": "code",
   "execution_count": 101,
   "id": "deff6d98",
   "metadata": {},
   "outputs": [
    {
     "name": "stdout",
     "output_type": "stream",
     "text": [
      "[[0.53502544 0.9469999  0.53777308 0.84616537 0.67508001]\n",
      " [0.29804076 0.51468114 0.02151206 0.70243712 0.86145282]\n",
      " [0.3997298  0.55569376 0.93421149 0.15519315 0.52757512]]\n"
     ]
    }
   ],
   "source": [
    "# 2-D\n",
    "var1 = np.random.rand(3,5)\n",
    "print(var1)"
   ]
  },
  {
   "cell_type": "code",
   "execution_count": 108,
   "id": "57eca7fe",
   "metadata": {},
   "outputs": [
    {
     "name": "stdout",
     "output_type": "stream",
     "text": [
      "[[0.24395828 0.5140053  0.62680483 0.4598231  0.63224503]\n",
      " [0.25606753 0.47267375 0.84470543 0.11284904 0.75600713]\n",
      " [0.20679452 0.41877352 0.85999851 0.45701681 0.27012917]]\n"
     ]
    }
   ],
   "source": [
    "# Random number generated\n",
    "var2 = np.random.rand(3,5)\n",
    "print(var2)"
   ]
  },
  {
   "cell_type": "code",
   "execution_count": 109,
   "id": "a184a706",
   "metadata": {},
   "outputs": [
    {
     "name": "stdout",
     "output_type": "stream",
     "text": [
      "[[[0.14477505 0.66435365]\n",
      "  [0.70226968 0.77512109]\n",
      "  [0.66663268 0.92033263]]\n",
      "\n",
      " [[0.92079808 0.15727778]\n",
      "  [0.12566931 0.41601901]\n",
      "  [0.47043899 0.27641336]]]\n"
     ]
    }
   ],
   "source": [
    "#3-D array\n",
    "var3 = np.random.rand(2,3,2)\n",
    "print(var3)"
   ]
  },
  {
   "cell_type": "markdown",
   "id": "e34be1cd",
   "metadata": {},
   "source": [
    "### randn() -  to generate random numbers from a standard normal distribution, also known as a Gaussian distribution. This distribution has a bell-shaped curve with a mean of 0 and a standard deviation of 1"
   ]
  },
  {
   "cell_type": "code",
   "execution_count": 112,
   "id": "edba19b2",
   "metadata": {},
   "outputs": [
    {
     "name": "stdout",
     "output_type": "stream",
     "text": [
      "[ 2.67281413 -0.60546334  0.46022297  0.9440379   0.13337923]\n"
     ]
    }
   ],
   "source": [
    "#1-D\n",
    "varr = np.random.randn(5)\n",
    "print(varr)"
   ]
  },
  {
   "cell_type": "code",
   "execution_count": 117,
   "id": "0836b03f",
   "metadata": {},
   "outputs": [
    {
     "name": "stdout",
     "output_type": "stream",
     "text": [
      "[[-1.31015882 -0.41573936 -0.73547543]\n",
      " [ 1.0916115   1.25437912  0.92969482]\n",
      " [-0.06929114 -0.34186422  0.89511053]]\n"
     ]
    }
   ],
   "source": [
    "#2-D\n",
    "vart = np.random.randn(3,3)\n",
    "print(vart)"
   ]
  },
  {
   "cell_type": "code",
   "execution_count": 114,
   "id": "94b1916f",
   "metadata": {},
   "outputs": [
    {
     "name": "stdout",
     "output_type": "stream",
     "text": [
      "[[[ 0.8853947  -1.56818751  2.02186427]\n",
      "  [-1.08643588 -0.73033061 -2.43774342]\n",
      "  [-0.65254583  0.7693218   1.69004022]]\n",
      "\n",
      " [[ 0.60274896  0.16045669 -0.84795756]\n",
      "  [ 0.36207126 -1.73653233  0.48052994]\n",
      "  [ 0.47349423  0.37138243  0.05318705]]\n",
      "\n",
      " [[-1.7494485   0.37203937  0.47486092]\n",
      "  [-0.33133164 -1.53559577 -0.08858614]\n",
      "  [-0.75249085  1.23373595 -0.12478699]]]\n"
     ]
    }
   ],
   "source": [
    "#3-D\n",
    "vara = np.random.randn(3,3,3,)\n",
    "print(vara)"
   ]
  },
  {
   "cell_type": "markdown",
   "id": "66abfcf3",
   "metadata": {},
   "source": [
    "### ranf() -  an alias for the random_sample() function. Generate random floating-point numbers uniformly distributed between 0 (inclusive) and 1 (exclusive)"
   ]
  },
  {
   "cell_type": "code",
   "execution_count": 120,
   "id": "00a2a6da",
   "metadata": {},
   "outputs": [
    {
     "name": "stdout",
     "output_type": "stream",
     "text": [
      "[0.04959221 0.97776575 0.40923385]\n"
     ]
    }
   ],
   "source": [
    "fir = np.random.ranf(3)\n",
    "print(fir)"
   ]
  },
  {
   "cell_type": "code",
   "execution_count": 121,
   "id": "0ec994f0",
   "metadata": {},
   "outputs": [
    {
     "name": "stdout",
     "output_type": "stream",
     "text": [
      "[0.84736684 0.44276678 0.33844961 0.21869746]\n"
     ]
    }
   ],
   "source": [
    "fir1 = np.random.random_sample(4)\n",
    "print(fir1)"
   ]
  },
  {
   "cell_type": "markdown",
   "id": "45c2ca3f",
   "metadata": {},
   "source": [
    "### randint() - the function is used to generate a random number between a given range"
   ]
  },
  {
   "cell_type": "code",
   "execution_count": 125,
   "id": "a1549f82",
   "metadata": {},
   "outputs": [
    {
     "name": "stdout",
     "output_type": "stream",
     "text": [
      "[19 18 15 15]\n"
     ]
    }
   ],
   "source": [
    "varn1 = np.random.randint(1,20,4)\n",
    "print(varn1)"
   ]
  },
  {
   "cell_type": "code",
   "execution_count": 126,
   "id": "b757c8eb",
   "metadata": {},
   "outputs": [
    {
     "name": "stdout",
     "output_type": "stream",
     "text": [
      "[14 13 11 13  7]\n"
     ]
    }
   ],
   "source": [
    "varn2 = np.random.randint(5,20,5)\n",
    "print(varn2)"
   ]
  },
  {
   "cell_type": "markdown",
   "id": "1d06cebe",
   "metadata": {},
   "source": [
    "## Changing datatypes of numpy arrays"
   ]
  },
  {
   "cell_type": "code",
   "execution_count": 133,
   "id": "ac9b4423",
   "metadata": {},
   "outputs": [
    {
     "name": "stdout",
     "output_type": "stream",
     "text": [
      "Data types of lisa:  int32\n",
      "Data types of lisa1:  float64\n"
     ]
    }
   ],
   "source": [
    "#asigning datatypes\n",
    "lisa = np.array([1,3,5,3,5,6,8])          #default\n",
    "print('Data types of lisa: ',lisa.dtype)\n",
    "lisa1 = np.array([2,3,4,5,3,5,3,4], dtype = np.float_)           #set to default float\n",
    "print('Data types of lisa1: ',lisa1.dtype)"
   ]
  },
  {
   "cell_type": "code",
   "execution_count": 136,
   "id": "46bb76f0",
   "metadata": {},
   "outputs": [
    {
     "name": "stdout",
     "output_type": "stream",
     "text": [
      "Data types of nw1:  int32\n",
      "Data types of nw2:  float32\n"
     ]
    }
   ],
   "source": [
    "#changing datatypes\n",
    "nw1 = np.array([2,35,4,5,5,5,6])\n",
    "nw2 = np.float32(nw1)\n",
    "print('Data types of nw1: ',nw1.dtype)\n",
    "print('Data types of nw2: ',nw2.dtype)"
   ]
  },
  {
   "cell_type": "code",
   "execution_count": 142,
   "id": "c914e3c4",
   "metadata": {},
   "outputs": [
    {
     "name": "stdout",
     "output_type": "stream",
     "text": [
      "Data types of nw3:  int32\n",
      "Data types of nw4:  float64\n",
      "float64\n"
     ]
    }
   ],
   "source": [
    "#changing datatype by astype function\n",
    "nw3 = np.array([1,2,3,4,5,7])\n",
    "nw4 = nw3.astype(float)\n",
    "print('Data types of nw3: ',nw3.dtype)\n",
    "print('Data types of nw4: ',nw4.dtype)"
   ]
  },
  {
   "cell_type": "code",
   "execution_count": 143,
   "id": "48251a25",
   "metadata": {},
   "outputs": [
    {
     "name": "stdout",
     "output_type": "stream",
     "text": [
      "float64\n"
     ]
    }
   ],
   "source": [
    "print(nw3.astype(float).dtype)"
   ]
  },
  {
   "cell_type": "markdown",
   "id": "9e40b7cd",
   "metadata": {},
   "source": [
    "## THE END"
   ]
  },
  {
   "cell_type": "code",
   "execution_count": null,
   "id": "4fb9a239",
   "metadata": {},
   "outputs": [],
   "source": []
  }
 ],
 "metadata": {
  "kernelspec": {
   "display_name": "Python 3 (ipykernel)",
   "language": "python",
   "name": "python3"
  },
  "language_info": {
   "codemirror_mode": {
    "name": "ipython",
    "version": 3
   },
   "file_extension": ".py",
   "mimetype": "text/x-python",
   "name": "python",
   "nbconvert_exporter": "python",
   "pygments_lexer": "ipython3",
   "version": "3.11.5"
  }
 },
 "nbformat": 4,
 "nbformat_minor": 5
}
